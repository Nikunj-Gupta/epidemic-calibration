{
 "cells": [
  {
   "cell_type": "code",
   "execution_count": 1,
   "id": "e3fe346b",
   "metadata": {},
   "outputs": [],
   "source": [
    "import numpy as np \n",
    "import pandas as pd "
   ]
  },
  {
   "cell_type": "code",
   "execution_count": 2,
   "id": "37ca3669",
   "metadata": {},
   "outputs": [],
   "source": [
    "df = pd.read_csv(\"../data/ml_df.csv\")"
   ]
  },
  {
   "cell_type": "code",
   "execution_count": 3,
   "id": "9413b2c7",
   "metadata": {},
   "outputs": [],
   "source": [
    "from sklearn.preprocessing import LabelEncoder\n",
    "label_encoder = LabelEncoder()\n",
    "num_labels = label_encoder.fit_transform(df.best_calibration_method)\n",
    "cat_labels = label_encoder.inverse_transform(num_labels) \n",
    "\n",
    "df['best_calibration_method_label'] = num_labels "
   ]
  },
  {
   "cell_type": "code",
   "execution_count": 4,
   "id": "cd8a4b0b",
   "metadata": {},
   "outputs": [
    {
     "data": {
      "text/html": [
       "<div>\n",
       "<style scoped>\n",
       "    .dataframe tbody tr th:only-of-type {\n",
       "        vertical-align: middle;\n",
       "    }\n",
       "\n",
       "    .dataframe tbody tr th {\n",
       "        vertical-align: top;\n",
       "    }\n",
       "\n",
       "    .dataframe thead th {\n",
       "        text-align: right;\n",
       "    }\n",
       "</style>\n",
       "<table border=\"1\" class=\"dataframe\">\n",
       "  <thead>\n",
       "    <tr style=\"text-align: right;\">\n",
       "      <th></th>\n",
       "      <th>amount_of_data</th>\n",
       "      <th>noise</th>\n",
       "      <th>num_compartments</th>\n",
       "      <th>best_calibration_method_label</th>\n",
       "    </tr>\n",
       "  </thead>\n",
       "  <tbody>\n",
       "    <tr>\n",
       "      <th>0</th>\n",
       "      <td>27</td>\n",
       "      <td>9</td>\n",
       "      <td>3</td>\n",
       "      <td>11</td>\n",
       "    </tr>\n",
       "    <tr>\n",
       "      <th>1</th>\n",
       "      <td>28</td>\n",
       "      <td>9</td>\n",
       "      <td>3</td>\n",
       "      <td>11</td>\n",
       "    </tr>\n",
       "    <tr>\n",
       "      <th>2</th>\n",
       "      <td>29</td>\n",
       "      <td>9</td>\n",
       "      <td>3</td>\n",
       "      <td>11</td>\n",
       "    </tr>\n",
       "    <tr>\n",
       "      <th>3</th>\n",
       "      <td>30</td>\n",
       "      <td>9</td>\n",
       "      <td>3</td>\n",
       "      <td>11</td>\n",
       "    </tr>\n",
       "    <tr>\n",
       "      <th>4</th>\n",
       "      <td>31</td>\n",
       "      <td>9</td>\n",
       "      <td>3</td>\n",
       "      <td>11</td>\n",
       "    </tr>\n",
       "    <tr>\n",
       "      <th>...</th>\n",
       "      <td>...</td>\n",
       "      <td>...</td>\n",
       "      <td>...</td>\n",
       "      <td>...</td>\n",
       "    </tr>\n",
       "    <tr>\n",
       "      <th>1375</th>\n",
       "      <td>68</td>\n",
       "      <td>8</td>\n",
       "      <td>4</td>\n",
       "      <td>11</td>\n",
       "    </tr>\n",
       "    <tr>\n",
       "      <th>1376</th>\n",
       "      <td>69</td>\n",
       "      <td>8</td>\n",
       "      <td>4</td>\n",
       "      <td>4</td>\n",
       "    </tr>\n",
       "    <tr>\n",
       "      <th>1377</th>\n",
       "      <td>70</td>\n",
       "      <td>8</td>\n",
       "      <td>4</td>\n",
       "      <td>11</td>\n",
       "    </tr>\n",
       "    <tr>\n",
       "      <th>1378</th>\n",
       "      <td>71</td>\n",
       "      <td>8</td>\n",
       "      <td>4</td>\n",
       "      <td>11</td>\n",
       "    </tr>\n",
       "    <tr>\n",
       "      <th>1379</th>\n",
       "      <td>72</td>\n",
       "      <td>8</td>\n",
       "      <td>4</td>\n",
       "      <td>11</td>\n",
       "    </tr>\n",
       "  </tbody>\n",
       "</table>\n",
       "<p>1380 rows × 4 columns</p>\n",
       "</div>"
      ],
      "text/plain": [
       "      amount_of_data  noise  num_compartments  best_calibration_method_label\n",
       "0                 27      9                 3                             11\n",
       "1                 28      9                 3                             11\n",
       "2                 29      9                 3                             11\n",
       "3                 30      9                 3                             11\n",
       "4                 31      9                 3                             11\n",
       "...              ...    ...               ...                            ...\n",
       "1375              68      8                 4                             11\n",
       "1376              69      8                 4                              4\n",
       "1377              70      8                 4                             11\n",
       "1378              71      8                 4                             11\n",
       "1379              72      8                 4                             11\n",
       "\n",
       "[1380 rows x 4 columns]"
      ]
     },
     "execution_count": 4,
     "metadata": {},
     "output_type": "execute_result"
    }
   ],
   "source": [
    "del_cols = ['best_mae', 'best_calibration_method', 'second_best_mae',\n",
    "       'second_best_calibration_method', 'third_best_mae',\n",
    "       'third_best_calibration_method', 'model_name'] \n",
    "\n",
    "ml_df = df.drop(del_cols, axis=1) \n",
    "ml_df "
   ]
  },
  {
   "cell_type": "code",
   "execution_count": 5,
   "id": "e9465dae",
   "metadata": {},
   "outputs": [],
   "source": [
    "from sklearn.metrics import confusion_matrix\n",
    "from sklearn.model_selection import train_test_split\n",
    "from sklearn.metrics import accuracy_score\n",
    "from sklearn.metrics import classification_report "
   ]
  },
  {
   "cell_type": "code",
   "execution_count": 6,
   "id": "09287aa8",
   "metadata": {},
   "outputs": [],
   "source": [
    "TEST_SPLIT_SIZE = 0.15 "
   ]
  },
  {
   "cell_type": "code",
   "execution_count": 7,
   "id": "ae28d00d",
   "metadata": {},
   "outputs": [],
   "source": [
    "# Function to split the dataset\n",
    "def splitdataset(balance_data):\n",
    "\n",
    "    # Separating the target variable\n",
    "    X = balance_data.values[:, 0:3]\n",
    "    Y = balance_data.values[:, 3]\n",
    "\n",
    "    # Splitting the dataset into train and test\n",
    "    X_train, X_test, y_train, y_test = train_test_split(\n",
    "    X, Y, test_size = TEST_SPLIT_SIZE, random_state = 100) \n",
    "\n",
    "    return X, Y, X_train, X_test, y_train, y_test"
   ]
  },
  {
   "cell_type": "code",
   "execution_count": 8,
   "id": "45e0174c",
   "metadata": {},
   "outputs": [],
   "source": [
    "# Function to calculate accuracy\n",
    "def cal_accuracy(y_test, y_pred):\n",
    "\n",
    "#     print(\"Confusion Matrix: \",\n",
    "#         confusion_matrix(y_test, y_pred))\n",
    "\n",
    "    print (\"Accuracy : \",\n",
    "    accuracy_score(y_test,y_pred)*100)\n",
    "\n",
    "#     print(\"Report : \",\n",
    "#     classification_report(y_test, y_pred))\n"
   ]
  },
  {
   "cell_type": "code",
   "execution_count": 9,
   "id": "4fde36e1",
   "metadata": {},
   "outputs": [],
   "source": [
    "def prediction(X_test, clf): \n",
    "    y_pred = clf.predict(X_test) \n",
    "    return y_pred "
   ]
  },
  {
   "cell_type": "code",
   "execution_count": 10,
   "id": "e1b40e4d",
   "metadata": {},
   "outputs": [
    {
     "name": "stdout",
     "output_type": "stream",
     "text": [
      "Results Using Gini Index:\n",
      "Accuracy :  63.76811594202898\n",
      "Results Using Entropy:\n",
      "Accuracy :  66.66666666666666\n"
     ]
    }
   ],
   "source": [
    "\"\"\" \n",
    "Decision Trees \n",
    "\"\"\" \n",
    "\n",
    "# Importing the required packages\n",
    "from sklearn.tree import DecisionTreeClassifier\n",
    "\n",
    "# Function to perform training with giniIndex.\n",
    "def train_using_gini(X_train, X_test, y_train):\n",
    "\n",
    "    # Creating the classifier object\n",
    "    clf_gini = DecisionTreeClassifier(criterion = \"gini\",\n",
    "            random_state = 100,max_depth=3, min_samples_leaf=5)\n",
    "\n",
    "    # Performing training\n",
    "    clf_gini.fit(X_train, y_train)\n",
    "    return clf_gini\n",
    "\n",
    "# Function to perform training with entropy.\n",
    "def train_using_entropy(X_train, X_test, y_train):\n",
    "\n",
    "    # Decision tree with entropy\n",
    "    clf_entropy = DecisionTreeClassifier(\n",
    "            criterion = \"entropy\", random_state = 100,\n",
    "            max_depth = 3, min_samples_leaf = 5)\n",
    "\n",
    "    # Performing training\n",
    "    clf_entropy.fit(X_train, y_train)\n",
    "    return clf_entropy\n",
    "\n",
    "data = ml_df \n",
    "X, Y, X_train, X_test, y_train, y_test = splitdataset(data) \n",
    "\n",
    "clf_gini = train_using_gini(X_train, X_test, y_train)\n",
    "clf_entropy = train_using_entropy(X_train, X_test, y_train)\n",
    "\n",
    "# Prediction using gini\n",
    "print(\"Results Using Gini Index:\")\n",
    "y_pred_gini = prediction(X_test, clf_gini)\n",
    "cal_accuracy(y_test, y_pred_gini)\n",
    "\n",
    "\n",
    "# Prediction using entropy\n",
    "print(\"Results Using Entropy:\")\n",
    "y_pred_entropy = prediction(X_test, clf_entropy)\n",
    "\n",
    "cal_accuracy(y_test, y_pred_entropy) "
   ]
  },
  {
   "cell_type": "code",
   "execution_count": 11,
   "id": "62f1d4b3",
   "metadata": {},
   "outputs": [
    {
     "name": "stdout",
     "output_type": "stream",
     "text": [
      "Accuracy :  53.62318840579711\n"
     ]
    },
    {
     "name": "stderr",
     "output_type": "stream",
     "text": [
      "/Users/nikunjgupta/work/epidemic-calibration/venv/lib/python3.10/site-packages/sklearn/linear_model/_logistic.py:444: ConvergenceWarning: lbfgs failed to converge (status=1):\n",
      "STOP: TOTAL NO. of ITERATIONS REACHED LIMIT.\n",
      "\n",
      "Increase the number of iterations (max_iter) or scale the data as shown in:\n",
      "    https://scikit-learn.org/stable/modules/preprocessing.html\n",
      "Please also refer to the documentation for alternative solver options:\n",
      "    https://scikit-learn.org/stable/modules/linear_model.html#logistic-regression\n",
      "  n_iter_i = _check_optimize_result(\n"
     ]
    }
   ],
   "source": [
    "\"\"\" \n",
    "Logistic Regression \n",
    "\"\"\" \n",
    "\n",
    "from sklearn.linear_model import LogisticRegression \n",
    "\n",
    "logreg = LogisticRegression()\n",
    "logreg.fit(X_train, y_train) \n",
    "\n",
    "# Logistic Regression Results \n",
    "y_pred_logi = prediction(X_test, logreg)\n",
    "cal_accuracy(y_test, y_pred_logi) "
   ]
  },
  {
   "cell_type": "code",
   "execution_count": 12,
   "id": "744584ed",
   "metadata": {},
   "outputs": [
    {
     "name": "stdout",
     "output_type": "stream",
     "text": [
      "Accuracy :  70.04830917874396\n"
     ]
    }
   ],
   "source": [
    "\"\"\" \n",
    "C-Support Vector Classification \n",
    "\"\"\" \n",
    "\n",
    "from sklearn.svm import SVC\n",
    "from sklearn.pipeline import make_pipeline\n",
    "from sklearn.preprocessing import StandardScaler\n",
    "\n",
    "clf = make_pipeline(StandardScaler(), SVC(gamma='auto')) \n",
    "clf.fit(X_train, y_train) \n",
    "\n",
    "# SVC Results \n",
    "y_pred_svc = prediction(X_test, clf)\n",
    "cal_accuracy(y_test, y_pred_svc) "
   ]
  },
  {
   "cell_type": "code",
   "execution_count": 13,
   "id": "bca4003e",
   "metadata": {},
   "outputs": [
    {
     "name": "stdout",
     "output_type": "stream",
     "text": [
      "Results Using Gini Index:\n",
      "Accuracy :  63.76811594202898\n"
     ]
    }
   ],
   "source": [
    "\"\"\" \n",
    "KNN \n",
    "\"\"\" \n",
    "\n",
    "from sklearn.neighbors import KNeighborsClassifier\n",
    "\n",
    "neigh = KNeighborsClassifier(n_neighbors=3)\n",
    "neigh.fit(X_train, y_train) \n",
    "\n",
    "# Logistic Regression Results \n",
    "print(\"Results Using Gini Index:\")\n",
    "y_pred_knn = prediction(X_test, neigh)\n",
    "cal_accuracy(y_test, y_pred_knn) "
   ]
  },
  {
   "cell_type": "code",
   "execution_count": 14,
   "id": "82490e48",
   "metadata": {},
   "outputs": [
    {
     "name": "stdout",
     "output_type": "stream",
     "text": [
      "Accuracy :  17.874396135265698\n"
     ]
    }
   ],
   "source": [
    "\"\"\" \n",
    "Naive-Bayes \n",
    "\"\"\"\n",
    "from sklearn.naive_bayes import GaussianNB \n",
    "\n",
    "gnb = GaussianNB() \n",
    "gnb.fit(X_train, y_train) \n",
    "\n",
    "y_pred_nb = prediction(X_test, gnb)\n",
    "cal_accuracy(y_test, y_pred_nb)  "
   ]
  },
  {
   "cell_type": "code",
   "execution_count": 15,
   "id": "fdde6950",
   "metadata": {},
   "outputs": [
    {
     "name": "stdout",
     "output_type": "stream",
     "text": [
      "MLPClassifier(alpha=1e-05, hidden_layer_sizes=(10, 10), random_state=1,\n",
      "              solver='lbfgs')\n",
      "Accuracy :  46.3768115942029\n"
     ]
    },
    {
     "name": "stderr",
     "output_type": "stream",
     "text": [
      "/Users/nikunjgupta/work/epidemic-calibration/venv/lib/python3.10/site-packages/sklearn/neural_network/_multilayer_perceptron.py:559: ConvergenceWarning: lbfgs failed to converge (status=1):\n",
      "STOP: TOTAL NO. of ITERATIONS REACHED LIMIT.\n",
      "\n",
      "Increase the number of iterations (max_iter) or scale the data as shown in:\n",
      "    https://scikit-learn.org/stable/modules/preprocessing.html\n",
      "  self.n_iter_ = _check_optimize_result(\"lbfgs\", opt_res, self.max_iter)\n",
      "/Users/nikunjgupta/work/epidemic-calibration/venv/lib/python3.10/site-packages/sklearn/neural_network/_multilayer_perceptron.py:559: ConvergenceWarning: lbfgs failed to converge (status=1):\n",
      "STOP: TOTAL NO. of ITERATIONS REACHED LIMIT.\n",
      "\n",
      "Increase the number of iterations (max_iter) or scale the data as shown in:\n",
      "    https://scikit-learn.org/stable/modules/preprocessing.html\n",
      "  self.n_iter_ = _check_optimize_result(\"lbfgs\", opt_res, self.max_iter)\n"
     ]
    },
    {
     "name": "stdout",
     "output_type": "stream",
     "text": [
      "MLPClassifier(alpha=1e-05, hidden_layer_sizes=(32, 32), random_state=1,\n",
      "              solver='lbfgs')\n",
      "Accuracy :  66.18357487922705\n"
     ]
    },
    {
     "name": "stderr",
     "output_type": "stream",
     "text": [
      "/Users/nikunjgupta/work/epidemic-calibration/venv/lib/python3.10/site-packages/sklearn/neural_network/_multilayer_perceptron.py:559: ConvergenceWarning: lbfgs failed to converge (status=1):\n",
      "STOP: TOTAL NO. of ITERATIONS REACHED LIMIT.\n",
      "\n",
      "Increase the number of iterations (max_iter) or scale the data as shown in:\n",
      "    https://scikit-learn.org/stable/modules/preprocessing.html\n",
      "  self.n_iter_ = _check_optimize_result(\"lbfgs\", opt_res, self.max_iter)\n"
     ]
    },
    {
     "name": "stdout",
     "output_type": "stream",
     "text": [
      "MLPClassifier(alpha=1e-05, hidden_layer_sizes=(64, 64), random_state=1,\n",
      "              solver='lbfgs')\n",
      "Accuracy :  67.14975845410628\n"
     ]
    },
    {
     "name": "stderr",
     "output_type": "stream",
     "text": [
      "/Users/nikunjgupta/work/epidemic-calibration/venv/lib/python3.10/site-packages/sklearn/neural_network/_multilayer_perceptron.py:559: ConvergenceWarning: lbfgs failed to converge (status=1):\n",
      "STOP: TOTAL NO. of ITERATIONS REACHED LIMIT.\n",
      "\n",
      "Increase the number of iterations (max_iter) or scale the data as shown in:\n",
      "    https://scikit-learn.org/stable/modules/preprocessing.html\n",
      "  self.n_iter_ = _check_optimize_result(\"lbfgs\", opt_res, self.max_iter)\n"
     ]
    },
    {
     "name": "stdout",
     "output_type": "stream",
     "text": [
      "MLPClassifier(alpha=1e-05, hidden_layer_sizes=(128, 128), random_state=1,\n",
      "              solver='lbfgs')\n",
      "Accuracy :  62.31884057971014\n",
      "MLPClassifier(alpha=1e-05, hidden_layer_sizes=(32, 32, 32), random_state=1,\n",
      "              solver='lbfgs')\n",
      "Accuracy :  68.11594202898551\n"
     ]
    },
    {
     "name": "stderr",
     "output_type": "stream",
     "text": [
      "/Users/nikunjgupta/work/epidemic-calibration/venv/lib/python3.10/site-packages/sklearn/neural_network/_multilayer_perceptron.py:559: ConvergenceWarning: lbfgs failed to converge (status=1):\n",
      "STOP: TOTAL NO. of ITERATIONS REACHED LIMIT.\n",
      "\n",
      "Increase the number of iterations (max_iter) or scale the data as shown in:\n",
      "    https://scikit-learn.org/stable/modules/preprocessing.html\n",
      "  self.n_iter_ = _check_optimize_result(\"lbfgs\", opt_res, self.max_iter)\n"
     ]
    }
   ],
   "source": [
    "from sklearn.neural_network import MLPClassifier \n",
    "\n",
    "clf = MLPClassifier(solver='lbfgs', alpha=1e-5, hidden_layer_sizes=(10, 10), random_state=1) \n",
    "clf_2 = MLPClassifier(solver='lbfgs', alpha=1e-5, hidden_layer_sizes=(32, 32), random_state=1) \n",
    "clf_3 = MLPClassifier(solver='lbfgs', alpha=1e-5, hidden_layer_sizes=(64, 64), random_state=1) \n",
    "clf_4 = MLPClassifier(solver='lbfgs', alpha=1e-5, hidden_layer_sizes=(128, 128), random_state=1) \n",
    "clf_5 = MLPClassifier(solver='lbfgs', alpha=1e-5, hidden_layer_sizes=(32, 32, 32), random_state=1) \n",
    "\n",
    "for i in [clf, clf_2, clf_3, clf_4, clf_5]: \n",
    "    i.fit(X_train, y_train) \n",
    "\n",
    "    y_pred_nn = prediction(X_test, i) \n",
    "    print(i)\n",
    "    cal_accuracy(y_test, y_pred_nn)  "
   ]
  },
  {
   "cell_type": "code",
   "execution_count": null,
   "id": "2fb7e5ee",
   "metadata": {},
   "outputs": [],
   "source": []
  }
 ],
 "metadata": {
  "kernelspec": {
   "display_name": "Python 3 (ipykernel)",
   "language": "python",
   "name": "python3"
  },
  "language_info": {
   "codemirror_mode": {
    "name": "ipython",
    "version": 3
   },
   "file_extension": ".py",
   "mimetype": "text/x-python",
   "name": "python",
   "nbconvert_exporter": "python",
   "pygments_lexer": "ipython3",
   "version": "3.10.6"
  }
 },
 "nbformat": 4,
 "nbformat_minor": 5
}
